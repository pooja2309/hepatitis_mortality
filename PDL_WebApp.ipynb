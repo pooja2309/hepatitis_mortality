{
 "cells": [
  {
   "cell_type": "code",
   "execution_count": 1,
   "metadata": {},
   "outputs": [],
   "source": [
    "from flask import Flask,render_template,url_for,request,jsonify\n",
    "\n",
    "app = Flask(__name__)\n",
    "import numpy as np\n",
    "import os\n",
    "import pandas as pd \n"
   ]
  },
  {
   "cell_type": "code",
   "execution_count": 2,
   "metadata": {},
   "outputs": [],
   "source": [
    "# ML Pkgs\n",
    "import joblib\n"
   ]
  },
  {
   "cell_type": "code",
   "execution_count": 3,
   "metadata": {},
   "outputs": [],
   "source": [
    "# Load Models\n",
    "def load_model(model_file):\n",
    "\tloaded_model = joblib.load(open(os.path.join(model_file),\"rb\"))\n",
    "\treturn loaded_model\n",
    "\n",
    "def get_key(val,my_dict):\n",
    "\tfor key ,value in my_dict.items():\n",
    "\t\tif val == value:\n",
    "\t\t\treturn key\n",
    "\n"
   ]
  },
  {
   "cell_type": "code",
   "execution_count": 4,
   "metadata": {},
   "outputs": [],
   "source": [
    "@app.route('/')\n",
    "def index():\n",
    "\treturn render_template(\"index.html\")\n",
    "\n",
    "\n",
    "@app.route('/predict',methods=['GET','POST'])\n",
    "def predict():\n",
    "\t# Receives the input query from form\n",
    "\tif request.method == 'POST':\n",
    "\t\tage = request.form['age']\n",
    "\t\tsex = request.form['sex']\n",
    "\t\tsteroid= request.form['steroid']\n",
    "\t\tantivirals= request.form['antivirals']\n",
    "\t\tfatigue= request.form['fatigue']\n",
    "\t\tspiders= request.form['spiders']\n",
    "\t\tascites= request.form['ascites']\n",
    "\t\tvarices= request.form['varices']\n",
    "\t\tbilirubin= request.form['bilirubin']\n",
    "\t\talk_phosphate= request.form['alk_phosphate']\n",
    "\t\tsgot= request.form['sgot']\n",
    "\t\talbumin= request.form['albumin']\n",
    "\t\tprotime= request.form['protime']\n",
    "\t\thistology= request.form['histology']\n",
    "\t\tsample_result = {\"age\":age,\"sex\":sex,\"steroid\":steroid,\"antivirals\":antivirals,\"fatigue\":fatigue,\"spiders\":spiders,\"ascites\":ascites,\"varices\":varices,\"bilirubin\":bilirubin,\"alk_phosphate\":alk_phosphate,\"sgot\":sgot,\"albumin\":albumin,\"protime\":protime,\"histolog\":histology}\n",
    "\t\tsingle_data = [age,sex,steroid,antivirals,fatigue,spiders,ascites,varices,bilirubin,alk_phosphate,sgot,albumin,protime,histology]\n",
    "\t\tprint(single_data)\n",
    "\t\tprint(len(single_data))\n",
    "\t\tnumerical_encoded_data = [ float(int(x)) for x in single_data ]\n",
    "\t\tmodel = load_model('C:/Users/pooja/logistic_regression_hepB_model.pkl')\n",
    "\t\tprediction = model.predict(np.array(numerical_encoded_data).reshape(1,-1))\n",
    "\t\tprint(prediction)\n",
    "\t\tprediction_label = {\"Die\":1,\"Live\":2}\n",
    "\t\tfinal_result = get_key(prediction[0],prediction_label)\n",
    "\t\tpred_prob = model.predict_proba(np.array(numerical_encoded_data).reshape(1,-1))\n",
    "\t\tpred_probalility_score = {\"Die\":pred_prob[0][0]*100,\"Live\":pred_prob[0][1]*100}\n",
    "\n",
    "\n",
    "\treturn render_template(\"index.html\",sample_result=sample_result,prediction=final_result,pred_probalility_score=pred_probalility_score)\n",
    "\n"
   ]
  },
  {
   "cell_type": "code",
   "execution_count": 5,
   "metadata": {},
   "outputs": [
    {
     "name": "stdout",
     "output_type": "stream",
     "text": [
      " * Serving Flask app \"__main__\" (lazy loading)\n",
      " * Environment: production\n",
      "   WARNING: Do not use the development server in a production environment.\n",
      "   Use a production WSGI server instead.\n",
      " * Debug mode: on\n"
     ]
    },
    {
     "name": "stderr",
     "output_type": "stream",
     "text": [
      " * Restarting with windowsapi reloader\n"
     ]
    },
    {
     "ename": "SystemExit",
     "evalue": "1",
     "output_type": "error",
     "traceback": [
      "An exception has occurred, use %tb to see the full traceback.\n",
      "\u001b[1;31mSystemExit\u001b[0m\u001b[1;31m:\u001b[0m 1\n"
     ]
    },
    {
     "name": "stderr",
     "output_type": "stream",
     "text": [
      "C:\\Users\\pooja\\Anaconda3\\lib\\site-packages\\IPython\\core\\interactiveshell.py:2971: UserWarning: To exit: use 'exit', 'quit', or Ctrl-D.\n",
      "  warn(\"To exit: use 'exit', 'quit', or Ctrl-D.\", stacklevel=1)\n"
     ]
    }
   ],
   "source": [
    "\n",
    "@app.route('/dataset')\n",
    "def dataset():\n",
    "\tdf = pd.read_csv(\"C:/Pooja/PDL/clean_hepatitis_dataset.csv\")\n",
    "\treturn render_template(\"dataset.html\",df_table=df)\n",
    "\n",
    "\n",
    "if __name__ == '__main__':\n",
    "\tapp.run(debug=True)"
   ]
  },
  {
   "cell_type": "code",
   "execution_count": null,
   "metadata": {},
   "outputs": [],
   "source": []
  }
 ],
 "metadata": {
  "kernelspec": {
   "display_name": "Python 3",
   "language": "python",
   "name": "python3"
  },
  "language_info": {
   "codemirror_mode": {
    "name": "ipython",
    "version": 3
   },
   "file_extension": ".py",
   "mimetype": "text/x-python",
   "name": "python",
   "nbconvert_exporter": "python",
   "pygments_lexer": "ipython3",
   "version": "3.7.9"
  }
 },
 "nbformat": 4,
 "nbformat_minor": 2
}
